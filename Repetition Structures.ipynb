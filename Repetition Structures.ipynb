{
 "cells": [
  {
   "cell_type": "markdown",
   "metadata": {},
   "source": [
    "# Repetition Structures"
   ]
  },
  {
   "cell_type": "markdown",
   "metadata": {},
   "source": [
    "### While loop"
   ]
  },
  {
   "cell_type": "raw",
   "metadata": {},
   "source": [
    "While loop is also called as condition-controlled loop\n",
    "\n",
    "while <Condition>:\n",
    "   perform statements\n",
    "   statement-2\n",
    "   make sure you set the condition to be false"
   ]
  },
  {
   "cell_type": "code",
   "execution_count": 3,
   "metadata": {},
   "outputs": [
    {
     "name": "stdout",
     "output_type": "stream",
     "text": [
      "0\n",
      "1\n",
      "2\n",
      "3\n",
      "4\n"
     ]
    }
   ],
   "source": [
    "i = 0\n",
    "while (i < 5):\n",
    "    print(i)\n",
    "    i += 1"
   ]
  },
  {
   "cell_type": "code",
   "execution_count": 5,
   "metadata": {},
   "outputs": [
    {
     "name": "stdout",
     "output_type": "stream",
     "text": [
      "2 6 10 14 \n"
     ]
    }
   ],
   "source": [
    "# end is a parameter for print function that supresses\n",
    "# \\n new line character\n",
    "\n",
    "i = 2\n",
    "while (i < 15):\n",
    "    print(i, end=' ')\n",
    "    \n",
    "    i += 4\n",
    "    \n",
    "print()"
   ]
  },
  {
   "cell_type": "code",
   "execution_count": 6,
   "metadata": {},
   "outputs": [
    {
     "name": "stdout",
     "output_type": "stream",
     "text": [
      "-2 -5 -8 \n"
     ]
    }
   ],
   "source": [
    "i = -2\n",
    "\n",
    "while (i > -10):\n",
    "    print(i, end=' ')\n",
    "    i -= 3\n",
    "    \n",
    "print()"
   ]
  },
  {
   "cell_type": "markdown",
   "metadata": {},
   "source": [
    "### for-loop"
   ]
  },
  {
   "cell_type": "raw",
   "metadata": {},
   "source": [
    "for loop is called as counter-controlled loop\n",
    "\n",
    "for x in range(start, end, step):\n",
    "    statement\n",
    "    statement\n",
    "    statement"
   ]
  },
  {
   "cell_type": "code",
   "execution_count": 8,
   "metadata": {},
   "outputs": [
    {
     "name": "stdout",
     "output_type": "stream",
     "text": [
      "0 1 2 3 4 5 6 7 8 9 \n"
     ]
    }
   ],
   "source": [
    "# 10 is the end number (not inclusive)\n",
    "# start - defaults to 0\n",
    "# step - defaults to +1\n",
    "\n",
    "for i in range(10): #0,1,2,3....,9\n",
    "    print(i, end=' ')\n",
    "    \n",
    "print()"
   ]
  },
  {
   "cell_type": "code",
   "execution_count": 9,
   "metadata": {},
   "outputs": [
    {
     "name": "stdout",
     "output_type": "stream",
     "text": [
      "5 6 7 8 9 \n"
     ]
    }
   ],
   "source": [
    "# start = 5\n",
    "# end = 10 (not inclusive)\n",
    "# step = 1\n",
    "\n",
    "for i in range(5, 10): #5,6,7,8,9\n",
    "    print(i, end=' ')\n",
    "    \n",
    "print()"
   ]
  },
  {
   "cell_type": "code",
   "execution_count": 10,
   "metadata": {},
   "outputs": [
    {
     "name": "stdout",
     "output_type": "stream",
     "text": [
      "5 8 11 14 \n"
     ]
    }
   ],
   "source": [
    "for i in range(5, 15, 3): #5, 8, 11, 14\n",
    "    print(i, end=' ')\n",
    "\n",
    "print()"
   ]
  },
  {
   "cell_type": "raw",
   "metadata": {},
   "source": [
    "#Comparision between a while and a for loop\n",
    "\n",
    "1) Initialize variable (i=5) - One time execution\n",
    "2) Check the condition (i < 15)\n",
    "3) Execute statements  (printing i)\n",
    "4) Increment/decrement the counter (i += 3) - go back to step 2"
   ]
  },
  {
   "cell_type": "code",
   "execution_count": 11,
   "metadata": {},
   "outputs": [
    {
     "name": "stdout",
     "output_type": "stream",
     "text": [
      "5 8 11 14 \n"
     ]
    }
   ],
   "source": [
    "i = 5\n",
    "while (i < 15):\n",
    "    print(i, end=' ')\n",
    "    i += 3\n",
    "\n",
    "print()"
   ]
  },
  {
   "cell_type": "code",
   "execution_count": 14,
   "metadata": {},
   "outputs": [
    {
     "name": "stdout",
     "output_type": "stream",
     "text": [
      "   1 : 6990.00 : 106990.00\n",
      "   2 : 7478.60 : 114468.60\n",
      "   3 : 8001.36 : 122469.96\n",
      "   4 : 8560.65 : 131030.61\n",
      "   5 : 9159.04 : 140189.65\n",
      "   6 : 9799.26 : 149988.90\n",
      "   7 : 10484.22 : 160473.13\n",
      "   8 : 11217.07 : 171690.20\n",
      "   9 : 12001.14 : 183691.34\n",
      "  10 : 12840.02 : 196531.37\n",
      "  11 : 13737.54 : 210268.91\n",
      "The investment of 100000.00 becomes 210268.91 in 11 years\n"
     ]
    }
   ],
   "source": [
    "# Code to double the investment\n",
    "# You invest certain amount for certain interest rate\n",
    "# how long does it take for the investement to double\n",
    "\n",
    "years = 0\n",
    "initialAmount = 100000\n",
    "rateOfInterest = 6.99\n",
    "\n",
    "targetAmount = initialAmount * 2\n",
    "\n",
    "balance = initialAmount #running total\n",
    "\n",
    "while (balance <= targetAmount):\n",
    "    years += 1\n",
    "    \n",
    "    #Calculate interest amount\n",
    "    interestAmount = balance * rateOfInterest/100\n",
    "    \n",
    "    #Update balance\n",
    "    # This statement eventually changes the condition to false\n",
    "    balance += interestAmount\n",
    "    \n",
    "    print(\"%4d : %.2f : %.2f\" %(years, interestAmount, balance))\n",
    "\n",
    "message = \"The investment of %.2f becomes %.2f in %d years\" %(initialAmount, balance, years)\n",
    "\n",
    "print(message)"
   ]
  },
  {
   "cell_type": "code",
   "execution_count": 16,
   "metadata": {},
   "outputs": [
    {
     "name": "stdout",
     "output_type": "stream",
     "text": [
      "   1    2    3    4    5    6    7    8    9   10 \n",
      "   2    4    6    8   10   12   14   16   18   20 \n",
      "   3    6    9   12   15   18   21   24   27   30 \n",
      "   4    8   12   16   20   24   28   32   36   40 \n",
      "   5   10   15   20   25   30   35   40   45   50 \n",
      "   6   12   18   24   30   36   42   48   54   60 \n",
      "   7   14   21   28   35   42   49   56   63   70 \n",
      "   8   16   24   32   40   48   56   64   72   80 \n",
      "   9   18   27   36   45   54   63   72   81   90 \n",
      "  10   20   30   40   50   60   70   80   90  100 \n"
     ]
    }
   ],
   "source": [
    "# Nested Loop\n",
    "# Loop inside a loop\n",
    "# To build a multiplication table\n",
    "\n",
    "for i in range(1,11): #1,2,...,10 # Outer loop # Rows\n",
    "    for j in range(1,11):  #Inner loop # columns\n",
    "        \n",
    "        print(\"%4d\" %(i * j), end=' ')\n",
    "        \n",
    "    print()\n",
    "    \n",
    "## For each value of the outloop\n",
    "# repeat the inner loop (However many times it is)"
   ]
  },
  {
   "cell_type": "code",
   "execution_count": 17,
   "metadata": {},
   "outputs": [
    {
     "name": "stdout",
     "output_type": "stream",
     "text": [
      "5 6 7 8 9 10 "
     ]
    }
   ],
   "source": [
    "# Break and Continue Statment \n",
    "\n",
    "# Break statement breaks out of the loop completely\n",
    "# Continue breaking out of the current iteration\n",
    "\n",
    "i = 5\n",
    "\n",
    "while(i < 15):\n",
    "    print(i, end =' ')\n",
    "    \n",
    "    if (i == 10):\n",
    "        break\n",
    "        \n",
    "    i += 1"
   ]
  },
  {
   "cell_type": "code",
   "execution_count": 20,
   "metadata": {},
   "outputs": [
    {
     "name": "stdout",
     "output_type": "stream",
     "text": [
      "0  :  2\n",
      "1  :  8\n",
      "3  :  17\n",
      "4  :  22\n",
      "6  :  29\n"
     ]
    }
   ],
   "source": [
    "numList = [2,6,3,9,5,3,7]\n",
    "#          0 1 2 3 4 5 6\n",
    "\n",
    "total = 0\n",
    "i = 0\n",
    "\n",
    "#      i < 7\n",
    "while (i < len(numList)):\n",
    "    if (numList[i] == 3):\n",
    "        i += 1\n",
    "        continue\n",
    "        \n",
    "    total += numList[i] # 2 6 \n",
    "    \n",
    "    print(i, \" : \", total)\n",
    "    i += 1"
   ]
  },
  {
   "cell_type": "code",
   "execution_count": null,
   "metadata": {},
   "outputs": [],
   "source": []
  }
 ],
 "metadata": {
  "kernelspec": {
   "display_name": "Python 3",
   "language": "python",
   "name": "python3"
  },
  "language_info": {
   "codemirror_mode": {
    "name": "ipython",
    "version": 3
   },
   "file_extension": ".py",
   "mimetype": "text/x-python",
   "name": "python",
   "nbconvert_exporter": "python",
   "pygments_lexer": "ipython3",
   "version": "3.6.10"
  }
 },
 "nbformat": 4,
 "nbformat_minor": 4
}
